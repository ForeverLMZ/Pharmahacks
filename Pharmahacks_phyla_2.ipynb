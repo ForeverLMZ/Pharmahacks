{
  "nbformat": 4,
  "nbformat_minor": 0,
  "metadata": {
    "colab": {
      "name": "Pharmahacks_phyla_2.ipynb",
      "provenance": [],
      "collapsed_sections": [
        "9f5_F3O3Pm-P"
      ],
      "authorship_tag": "ABX9TyNKggDvL2tY7DyTeVmfyJXD",
      "include_colab_link": true
    },
    "kernelspec": {
      "name": "python3",
      "display_name": "Python 3"
    },
    "language_info": {
      "name": "python"
    }
  },
  "cells": [
    {
      "cell_type": "markdown",
      "metadata": {
        "id": "view-in-github",
        "colab_type": "text"
      },
      "source": [
        "<a href=\"https://colab.research.google.com/github/ForeverLMZ/Pharmahacks/blob/main/Pharmahacks_phyla_2.ipynb\" target=\"_parent\"><img src=\"https://colab.research.google.com/assets/colab-badge.svg\" alt=\"Open In Colab\"/></a>"
      ]
    },
    {
      "cell_type": "code",
      "source": [
        "import warnings\n",
        "warnings.filterwarnings(\"ignore\")"
      ],
      "metadata": {
        "id": "k2NQqAJQBZjt"
      },
      "execution_count": 4,
      "outputs": []
    },
    {
      "cell_type": "markdown",
      "source": [
        "#Data Extraction"
      ],
      "metadata": {
        "id": "9f5_F3O3Pm-P"
      }
    },
    {
      "cell_type": "code",
      "execution_count": 5,
      "metadata": {
        "colab": {
          "base_uri": "https://localhost:8080/"
        },
        "id": "B9uZmUISH4tX",
        "outputId": "004cc9ba-3bb4-4cff-8c78-ff459c2d0a48"
      },
      "outputs": [
        {
          "output_type": "stream",
          "name": "stdout",
          "text": [
            "             0           1           2           3           4           5     \\\n",
            "0                  Bacteria-1  Bacteria-2  Bacteria-3  Bacteria-4  Bacteria-5   \n",
            "1        Sample-1           0           0           0           0           0   \n",
            "2        Sample-2           0           0           0           0           0   \n",
            "3        Sample-3           0          10           0           0           0   \n",
            "4        Sample-4           0          17           0           0           0   \n",
            "...           ...         ...         ...         ...         ...         ...   \n",
            "7477  Sample-7477           0           0           0           0           0   \n",
            "7478  Sample-7478           0          11           0           0           0   \n",
            "7479  Sample-7479           0           0           0           0           0   \n",
            "7480  Sample-7480           0           0           0           0           0   \n",
            "7481  Sample-7481           0          14           0           0           0   \n",
            "\n",
            "            6           7           8           9     ...           1086  \\\n",
            "0     Bacteria-6  Bacteria-7  Bacteria-8  Bacteria-9  ...  Bacteria-1086   \n",
            "1              0           0           0           0  ...              0   \n",
            "2              0           0           0           0  ...              0   \n",
            "3              0           0           0           0  ...              0   \n",
            "4              0           0           0           0  ...              0   \n",
            "...          ...         ...         ...         ...  ...            ...   \n",
            "7477           0           0           0           0  ...              0   \n",
            "7478           0           0           0           0  ...              0   \n",
            "7479           0           0           0           0  ...              0   \n",
            "7480           0           0           0           0  ...              0   \n",
            "7481           0           0           0           0  ...              0   \n",
            "\n",
            "               1087           1088           1089           1090  \\\n",
            "0     Bacteria-1087  Bacteria-1088  Bacteria-1089  Bacteria-1090   \n",
            "1                 0              0              0              0   \n",
            "2             17111              0              0              0   \n",
            "3               214              0              0              0   \n",
            "4                 0              0              0              0   \n",
            "...             ...            ...            ...            ...   \n",
            "7477              0              0              0              0   \n",
            "7478             19              0              0              0   \n",
            "7479           2831              0              0              0   \n",
            "7480              0              0              0              0   \n",
            "7481              0              0              0              0   \n",
            "\n",
            "               1091           1092           1093           1094       1095  \n",
            "0     Bacteria-1091  Bacteria-1092  Bacteria-1093  Bacteria-1094    disease  \n",
            "1                 0              0              0              0  Disease-2  \n",
            "2                 0              0              0              0  Disease-2  \n",
            "3                 0              0              0              0  Disease-2  \n",
            "4                 0              0              0              0  Disease-2  \n",
            "...             ...            ...            ...            ...        ...  \n",
            "7477              0              0              0              0    Healthy  \n",
            "7478              0              0              0              0    Healthy  \n",
            "7479              0              0              0              0    Healthy  \n",
            "7480              0              0              0              0    Healthy  \n",
            "7481              0              0              0              0    Healthy  \n",
            "\n",
            "[7482 rows x 1096 columns]\n"
          ]
        }
      ],
      "source": [
        "from google.colab import auth\n",
        "auth.authenticate_user()\n",
        "\n",
        "import gspread\n",
        "from google.auth import default\n",
        "creds, _ = default()\n",
        "\n",
        "gc = gspread.authorize(creds)\n",
        "\n",
        "worksheet = gc.open('challenge_1_gut_microbiome_data').sheet1\n",
        "\n",
        "# get_all_values gives a list of rows.\n",
        "rows = worksheet.get_all_values()\n",
        "#print(rows)\n",
        "\n",
        "# Convert to a DataFrame and render.\n",
        "import pandas as pd\n",
        "df = pd.DataFrame.from_records(rows)\n",
        "\n",
        "print(df)\n",
        "\n",
        "df = df.iloc[1:]\n",
        "\n",
        "\n"
      ]
    },
    {
      "cell_type": "markdown",
      "source": [
        "#Data Preprocessing & Normalization"
      ],
      "metadata": {
        "id": "MZo70qCWLZ10"
      }
    },
    {
      "cell_type": "markdown",
      "source": [
        "Convert the labels to numerical values\n",
        "\n",
        "0 - healthy\n",
        "\n",
        "3 - disease 3\n",
        "\n",
        "2 - disease 2\n",
        "\n",
        "1 - disease 1"
      ],
      "metadata": {
        "id": "5SkYA2fHOsVQ"
      }
    },
    {
      "cell_type": "code",
      "source": [
        "import numpy as np\n",
        "#print(df[:][1095])\n",
        "label = df[:][1095]\n",
        "label = label.replace('Healthy',0)\n",
        "label = label.replace('Disease-3',3)\n",
        "label = label.replace('Disease-2',2)\n",
        "label = label.replace('Disease-1',1)\n",
        "\n",
        "\n",
        "label = label.to_numpy() #save the labels as a separate numpy array\n",
        "y = label.astype(int) #convert the str into int"
      ],
      "metadata": {
        "id": "9j0I7CGmLZNq"
      },
      "execution_count": 6,
      "outputs": []
    },
    {
      "cell_type": "markdown",
      "source": [
        "drops garbage label column and text columns"
      ],
      "metadata": {
        "id": "262v_AaVWmAz"
      }
    },
    {
      "cell_type": "code",
      "source": [
        "df = df.drop(df.columns[1095], axis=1)\n",
        "df = df.drop(df.columns[0], axis=1)"
      ],
      "metadata": {
        "id": "M0nu9YKlVhzR"
      },
      "execution_count": 7,
      "outputs": []
    },
    {
      "cell_type": "code",
      "source": [
        "x = df.to_numpy() #converts dataframe to numpy"
      ],
      "metadata": {
        "id": "zmtiD0XHSIOH"
      },
      "execution_count": 8,
      "outputs": []
    },
    {
      "cell_type": "markdown",
      "source": [
        "normalize the dataset such that all data entries are normallized within [0,1] range, column-wise, using the min-max method.\n",
        "(This deals with the feature imbalance problem)"
      ],
      "metadata": {
        "id": "JJt-VAfxm5U5"
      }
    },
    {
      "cell_type": "code",
      "source": [
        "print(len(df))\n",
        "from sklearn import preprocessing\n",
        "\n",
        "min_max_scaler = preprocessing.MinMaxScaler()\n",
        "x_scaled = min_max_scaler.fit_transform(x) #converts the input dataframe to numpy data structure\n",
        "print(pd.DataFrame(x_scaled))\n",
        "#print(x_scaled[0].max())"
      ],
      "metadata": {
        "colab": {
          "base_uri": "https://localhost:8080/"
        },
        "id": "xlR5cOQRO6Hi",
        "outputId": "f110c4bd-8865-4b03-b75a-765f3c8d4ccf"
      },
      "execution_count": 9,
      "outputs": [
        {
          "output_type": "stream",
          "name": "stdout",
          "text": [
            "7481\n",
            "      0         1     2     3     4     5     6     7     8     9     ...  \\\n",
            "0      0.0  0.000000   0.0   0.0   0.0   0.0   0.0   0.0   0.0   0.0  ...   \n",
            "1      0.0  0.000000   0.0   0.0   0.0   0.0   0.0   0.0   0.0   0.0  ...   \n",
            "2      0.0  0.000755   0.0   0.0   0.0   0.0   0.0   0.0   0.0   0.0  ...   \n",
            "3      0.0  0.001283   0.0   0.0   0.0   0.0   0.0   0.0   0.0   0.0  ...   \n",
            "4      0.0  0.000604   0.0   0.0   0.0   0.0   0.0   0.0   0.0   0.0  ...   \n",
            "...    ...       ...   ...   ...   ...   ...   ...   ...   ...   ...  ...   \n",
            "7476   0.0  0.000000   0.0   0.0   0.0   0.0   0.0   0.0   0.0   0.0  ...   \n",
            "7477   0.0  0.000830   0.0   0.0   0.0   0.0   0.0   0.0   0.0   0.0  ...   \n",
            "7478   0.0  0.000000   0.0   0.0   0.0   0.0   0.0   0.0   0.0   0.0  ...   \n",
            "7479   0.0  0.000000   0.0   0.0   0.0   0.0   0.0   0.0   0.0   0.0  ...   \n",
            "7480   0.0  0.001056   0.0   0.0   0.0   0.0   0.0   0.0   0.0   0.0  ...   \n",
            "\n",
            "      1084  1085      1086  1087  1088  1089  1090  1091      1092  1093  \n",
            "0      0.0   0.0  0.000000   0.0   0.0   0.0   0.0   0.0  0.000000   0.0  \n",
            "1      0.0   0.0  0.214161   0.0   0.0   0.0   0.0   0.0  0.000000   0.0  \n",
            "2      0.0   0.0  0.002678   0.0   0.0   0.0   0.0   0.0  0.000000   0.0  \n",
            "3      0.0   0.0  0.000000   0.0   0.0   0.0   0.0   0.0  0.000000   0.0  \n",
            "4      0.0   0.0  0.024181   0.0   0.0   0.0   0.0   0.0  0.000056   0.0  \n",
            "...    ...   ...       ...   ...   ...   ...   ...   ...       ...   ...  \n",
            "7476   0.0   0.0  0.000000   0.0   0.0   0.0   0.0   0.0  0.000000   0.0  \n",
            "7477   0.0   0.0  0.000238   0.0   0.0   0.0   0.0   0.0  0.000000   0.0  \n",
            "7478   0.0   0.0  0.035433   0.0   0.0   0.0   0.0   0.0  0.000000   0.0  \n",
            "7479   0.0   0.0  0.000000   0.0   0.0   0.0   0.0   0.0  0.000000   0.0  \n",
            "7480   0.0   0.0  0.000000   0.0   0.0   0.0   0.0   0.0  0.000000   0.0  \n",
            "\n",
            "[7481 rows x 1094 columns]\n"
          ]
        }
      ]
    },
    {
      "cell_type": "markdown",
      "source": [
        "#Training Set & Validation Set Split"
      ],
      "metadata": {
        "id": "BG29Jrbhssg2"
      }
    },
    {
      "cell_type": "code",
      "source": [
        "(N,D),C= x_scaled.shape,np.max(label)+1\n",
        "print(N,D,C)\n",
        "\n",
        "#we now splits 20% of the training set into validation set\n",
        "inds = np.random.permutation(N)  # shuffle the data before splitting \n",
        "n_val = N//5\n",
        "tr_inds = []\n",
        "# get the validation indices\n",
        "val_inds = list(range(0, n_val)) #get the validation indices\n",
        "tr_inds = tr_inds + list(range(n_val, N)) #get the training indices\n",
        "\n",
        "x_train = x_scaled[inds[tr_inds]]\n",
        "y_train = y[inds[tr_inds]]\n",
        "x_test = x_scaled[inds[val_inds]]\n",
        "y_test = y[inds[val_inds]]\n",
        "\n",
        "\n",
        "#we are good to go!"
      ],
      "metadata": {
        "colab": {
          "base_uri": "https://localhost:8080/"
        },
        "id": "UvFUZiCloEML",
        "outputId": "9c5c9f1b-a04c-44a4-f04b-30aedf2eee3a"
      },
      "execution_count": 41,
      "outputs": [
        {
          "output_type": "stream",
          "name": "stdout",
          "text": [
            "7481 1094 4\n"
          ]
        }
      ]
    },
    {
      "cell_type": "markdown",
      "source": [
        "#Feature Selection"
      ],
      "metadata": {
        "id": "oTr2sY005f5D"
      }
    },
    {
      "cell_type": "code",
      "source": [
        "x_train_fs = x_train\n",
        "x_test_fs = x_test\n",
        "\n",
        "from sklearn.datasets import load_digits\n",
        "from sklearn.feature_selection import SelectKBest, chi2\n",
        "selector = SelectKBest(k=470) #selects the top 470 features (the k value hyperparameter-tuned by hand)\n",
        "selector.fit(x_train, y_train)\n",
        "x_train_fs = selector.transform(x_train)\n",
        "x_test_fs = selector.transform(x_test)"
      ],
      "metadata": {
        "id": "6C1ULXnUMKBd"
      },
      "execution_count": 71,
      "outputs": []
    },
    {
      "cell_type": "markdown",
      "source": [
        "#Model Implementation"
      ],
      "metadata": {
        "id": "slQGJ4ARv8qJ"
      }
    },
    {
      "cell_type": "code",
      "source": [
        "from sklearn.model_selection import cross_validate\n",
        "from sklearn.metrics import make_scorer\n",
        "from sklearn.metrics import confusion_matrix\n",
        "from sklearn.svm import LinearSVC"
      ],
      "metadata": {
        "id": "KGiSooveAdPs"
      },
      "execution_count": 12,
      "outputs": []
    },
    {
      "cell_type": "markdown",
      "source": [
        "#Gaussian Naive Bayes  (NOT USED)"
      ],
      "metadata": {
        "id": "-qCUbrN26Y6N"
      }
    },
    {
      "cell_type": "code",
      "source": [
        "import numpy as np\n",
        "from sklearn.naive_bayes import GaussianNB\n",
        "clf = GaussianNB()\n",
        "clf.fit(x_train, y_train)\n",
        "GaussianNB()\n",
        "print(clf.score(x_test,y_test))"
      ],
      "metadata": {
        "colab": {
          "base_uri": "https://localhost:8080/"
        },
        "id": "1pUmO12zv_io",
        "outputId": "ede81800-072c-4d43-cb89-9de3cb54ac4f"
      },
      "execution_count": 96,
      "outputs": [
        {
          "output_type": "stream",
          "name": "stdout",
          "text": [
            "0.32954545454545453\n"
          ]
        }
      ]
    },
    {
      "cell_type": "markdown",
      "source": [
        "Cross-Validation Score"
      ],
      "metadata": {
        "id": "vWYg7huzKohm"
      }
    },
    {
      "cell_type": "code",
      "source": [
        "from sklearn.metrics import SCORERS\n",
        "#print(sorted(SCORERS.keys()))\n",
        "scores = cross_validate(clf, x_train, y_train, cv=5,return_train_score=False)"
      ],
      "metadata": {
        "id": "ksvpjnUqAUIL"
      },
      "execution_count": 97,
      "outputs": []
    },
    {
      "cell_type": "code",
      "source": [
        "print(scores['test_score'])"
      ],
      "metadata": {
        "colab": {
          "base_uri": "https://localhost:8080/"
        },
        "id": "1RSHeETcBe4z",
        "outputId": "bfef8826-24b4-47ab-896d-7935d3630650"
      },
      "execution_count": 99,
      "outputs": [
        {
          "output_type": "stream",
          "name": "stdout",
          "text": [
            "[0.33751044 0.31578947 0.34085213 0.36591479 0.34670008]\n"
          ]
        }
      ]
    },
    {
      "cell_type": "markdown",
      "source": [
        "#Gradient Boosting Classifier (NOT USED)"
      ],
      "metadata": {
        "id": "iHnKDRpr7qq9"
      }
    },
    {
      "cell_type": "code",
      "source": [
        "from sklearn.ensemble import GradientBoostingClassifier\n",
        "clf = GradientBoostingClassifier(n_estimators=100, learning_rate=1.0,max_depth=1, random_state=0).fit(x_train, y_train)\n",
        "print(clf.score(x_test, y_test))"
      ],
      "metadata": {
        "colab": {
          "base_uri": "https://localhost:8080/"
        },
        "id": "g2uC2zZJ7xp1",
        "outputId": "949454ad-ecbb-4f28-d535-3a77652ed360"
      },
      "execution_count": 101,
      "outputs": [
        {
          "output_type": "stream",
          "name": "stdout",
          "text": [
            "0.7633689839572193\n"
          ]
        }
      ]
    },
    {
      "cell_type": "code",
      "source": [
        "clf = GradientBoostingClassifier(n_estimators=100, learning_rate=1.0,max_depth=1, random_state=0).fit(x_train_fs, y_train)\n",
        "print(clf.score(x_test_fs, y_test))"
      ],
      "metadata": {
        "colab": {
          "base_uri": "https://localhost:8080/"
        },
        "id": "rcKczEbTR7Iz",
        "outputId": "1b60dd6e-1083-43b3-f862-5f5e1815de1f"
      },
      "execution_count": 150,
      "outputs": [
        {
          "output_type": "stream",
          "name": "stdout",
          "text": [
            "0.7479946524064172\n"
          ]
        }
      ]
    },
    {
      "cell_type": "markdown",
      "source": [
        "Cross-validation score"
      ],
      "metadata": {
        "id": "9QY5n9uaKuxl"
      }
    },
    {
      "cell_type": "code",
      "source": [
        "scores = cross_validate(clf, x_train, y_train, cv=5,return_train_score=False)\n",
        "print(scores['test_score'])"
      ],
      "metadata": {
        "colab": {
          "base_uri": "https://localhost:8080/"
        },
        "id": "ASKqaso9BkMX",
        "outputId": "7bbc9f4f-31cd-409c-b250-3ebd2fa9257e"
      },
      "execution_count": 102,
      "outputs": [
        {
          "output_type": "stream",
          "name": "stdout",
          "text": [
            "[0.73517126 0.7443609  0.74686717 0.74686717 0.75438596]\n"
          ]
        }
      ]
    },
    {
      "cell_type": "markdown",
      "source": [
        "#Extra Trees Classifier (USED!)"
      ],
      "metadata": {
        "id": "nVfO5XnR8bT0"
      }
    },
    {
      "cell_type": "markdown",
      "source": [
        "original performances without hyper-parameter tuning"
      ],
      "metadata": {
        "id": "kELUra_XJwda"
      }
    },
    {
      "cell_type": "code",
      "source": [
        "from sklearn.ensemble import ExtraTreesClassifier\n",
        "from sklearn.datasets import make_classification\n",
        "clf = ExtraTreesClassifier(n_estimators=100, random_state=0)\n",
        "clf.fit(x_train, y_train)\n",
        "ExtraTreesClassifier(random_state=0)\n",
        "print(\"Testing set score without feature selection\")\n",
        "print(clf.score(x_test,y_test))"
      ],
      "metadata": {
        "colab": {
          "base_uri": "https://localhost:8080/"
        },
        "id": "OhNvddqC8mRo",
        "outputId": "cb09c030-a98a-488b-c577-90103ebb92ae"
      },
      "execution_count": 42,
      "outputs": [
        {
          "output_type": "stream",
          "name": "stdout",
          "text": [
            "Testing set score without feature selection\n",
            "0.7834224598930482\n"
          ]
        }
      ]
    },
    {
      "cell_type": "code",
      "source": [
        "clf = ExtraTreesClassifier(n_estimators=100, random_state=0)\n",
        "clf.fit(x_train_fs, y_train)\n",
        "ExtraTreesClassifier(random_state=0)\n",
        "print(\"Testing set score with feature selection\")\n",
        "print(clf.score(x_test_fs,y_test))"
      ],
      "metadata": {
        "colab": {
          "base_uri": "https://localhost:8080/"
        },
        "id": "pQbIcipLQl_n",
        "outputId": "6a263efa-42cd-42c3-f05a-86c4ad09abe6"
      },
      "execution_count": 72,
      "outputs": [
        {
          "output_type": "stream",
          "name": "stdout",
          "text": [
            "Testing set score with feature selection\n",
            "0.7947860962566845\n"
          ]
        }
      ]
    },
    {
      "cell_type": "markdown",
      "source": [
        "#cross-validation to test feature selection"
      ],
      "metadata": {
        "id": "4YxglZOLKxpE"
      }
    },
    {
      "cell_type": "code",
      "source": [
        "#without feature selection\n",
        "scores = cross_validate(clf, x_train, y_train, cv=5,return_train_score=False)\n",
        "print(scores['test_score'])\n",
        "#with feature selection\n",
        "scores = cross_validate(clf, x_train_fs, y_train, cv=5,return_train_score=False)\n",
        "print(scores['test_score'])"
      ],
      "metadata": {
        "colab": {
          "base_uri": "https://localhost:8080/"
        },
        "id": "9dJ9TV4ODhkL",
        "outputId": "dd372aab-51d6-46f0-f059-fe626fd06ac5"
      },
      "execution_count": 73,
      "outputs": [
        {
          "output_type": "stream",
          "name": "stdout",
          "text": [
            "[0.80033417 0.786132   0.78529657 0.78696742 0.75689223]\n",
            "[0.80284043 0.78780284 0.78696742 0.786132   0.75355054]\n"
          ]
        }
      ]
    },
    {
      "cell_type": "markdown",
      "source": [
        "#Hyper-parameter Tuning of Extra Trees Classifier"
      ],
      "metadata": {
        "id": "UIi3vTRUVIgN"
      }
    },
    {
      "cell_type": "code",
      "source": [
        "from sklearn.model_selection import GridSearchCV\n",
        "from sklearn.neighbors import KNeighborsClassifier\n",
        "from sklearn.pipeline import Pipeline\n",
        "from sklearn.preprocessing import MinMaxScaler\n",
        "\n",
        "clf = ExtraTreesClassifier()\n",
        "params = [{'bootstrap': [False,True],'warm_start':[True,False]}] #the list of hyper-parameters to try\n",
        "gs = GridSearchCV(clf,param_grid=params,scoring='f1',cv=3)\n",
        "gs.fit(x_train_fs, y_train)\n"
      ],
      "metadata": {
        "colab": {
          "base_uri": "https://localhost:8080/"
        },
        "id": "njzs3rIHVRdz",
        "outputId": "4ba8442c-b0e7-4361-bb39-8e9ba1a85865"
      },
      "execution_count": 74,
      "outputs": [
        {
          "output_type": "execute_result",
          "data": {
            "text/plain": [
              "GridSearchCV(cv=3, estimator=ExtraTreesClassifier(),\n",
              "             param_grid=[{'bootstrap': [False, True],\n",
              "                          'warm_start': [True, False]}],\n",
              "             scoring='f1')"
            ]
          },
          "metadata": {},
          "execution_count": 74
        }
      ]
    },
    {
      "cell_type": "code",
      "source": [
        "print(gs.best_params_) #prints out the best performing hyper-parameter values"
      ],
      "metadata": {
        "colab": {
          "base_uri": "https://localhost:8080/"
        },
        "id": "xSaYDeKNY3F1",
        "outputId": "ca29ed38-d4fe-49ba-a8b4-ca74ddd2dce7"
      },
      "execution_count": 75,
      "outputs": [
        {
          "output_type": "stream",
          "name": "stdout",
          "text": [
            "{'bootstrap': False, 'warm_start': True}\n"
          ]
        }
      ]
    },
    {
      "cell_type": "markdown",
      "source": [
        "#Final Accuracy"
      ],
      "metadata": {
        "id": "xe6Zf4hj_OFw"
      }
    },
    {
      "cell_type": "code",
      "source": [
        "clf = ExtraTreesClassifier(n_estimators=100, random_state=0,max_features = 'sqrt',warm_start=True) #rerun the model with all of the tuned hyper-parameters\n",
        "clf.fit(x_train_fs, y_train) #we do it with feature selection\n",
        "ExtraTreesClassifier(random_state=0)\n",
        "print(\"Testing set score with feature selection\")\n",
        "print(clf.score(x_test_fs,y_test))"
      ],
      "metadata": {
        "colab": {
          "base_uri": "https://localhost:8080/"
        },
        "id": "_hQCIq1EdoeV",
        "outputId": "a56ad901-d49a-4536-bed7-3ff374f569d7"
      },
      "execution_count": 83,
      "outputs": [
        {
          "output_type": "stream",
          "name": "stdout",
          "text": [
            "Testing set score with feature selection\n",
            "0.7947860962566845\n"
          ]
        }
      ]
    },
    {
      "cell_type": "markdown",
      "source": [
        "#Final Metrics"
      ],
      "metadata": {
        "id": "4cyRFpLk_QxX"
      }
    },
    {
      "cell_type": "code",
      "source": [
        "from sklearn.metrics import f1_score\n",
        "print(\"f1 score:\")\n",
        "print(f1_score(y_test, clf.predict(x_test_fs), average='micro'))\n",
        "\n",
        "from sklearn.metrics import cohen_kappa_score\n",
        "kappa = cohen_kappa_score(clf.predict(x_test_fs),y_test,weights=None)\n",
        "print(\"kappa scoreL\")\n",
        "print(kappa)"
      ],
      "metadata": {
        "colab": {
          "base_uri": "https://localhost:8080/"
        },
        "id": "Ai16lBrKzf3x",
        "outputId": "a49ef756-a8e2-41e1-ab8d-7089eee26356"
      },
      "execution_count": 84,
      "outputs": [
        {
          "output_type": "stream",
          "name": "stdout",
          "text": [
            "f1 score:\n",
            "0.7947860962566845\n",
            "kappa score\n",
            "0.6616239944064723\n"
          ]
        }
      ]
    }
  ]
}